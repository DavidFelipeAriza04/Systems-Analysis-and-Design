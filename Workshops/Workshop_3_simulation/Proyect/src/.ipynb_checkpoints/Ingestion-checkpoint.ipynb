{
 "cells": [
  {
   "cell_type": "code",
   "execution_count": null,
   "id": "71e308b9-fcf4-4a5a-8d48-8d00e3009731",
   "metadata": {},
   "outputs": [
    {
     "name": "stdout",
     "output_type": "stream",
     "text": [
      "['Cities.csv', 'Conferences.csv', 'MConferenceTourneyGames.csv', 'MGameCities.csv', 'MMasseyOrdinals.csv', 'MNCAATourneyCompactResults.csv', 'MNCAATourneyDetailedResults.csv', 'MNCAATourneySeedRoundSlots.csv', 'MNCAATourneySeeds.csv', 'MNCAATourneySlots.csv', 'MRegularSeasonCompactResults.csv', 'MRegularSeasonDetailedResults.csv', 'MSeasons.csv', 'MSecondaryTourneyCompactResults.csv', 'MSecondaryTourneyTeams.csv', 'MTeamCoaches.csv', 'MTeamConferences.csv', 'MTeams.csv', 'MTeamSpellings.csv', 'SampleSubmissionStage1.csv', 'SampleSubmissionStage2.csv', 'SeedBenchmarkStage1.csv', 'WConferenceTourneyGames.csv', 'WGameCities.csv', 'WNCAATourneyCompactResults.csv', 'WNCAATourneyDetailedResults.csv', 'WNCAATourneySeeds.csv', 'WNCAATourneySlots.csv', 'WRegularSeasonCompactResults.csv', 'WRegularSeasonDetailedResults.csv', 'WSeasons.csv', 'WSecondaryTourneyCompactResults.csv', 'WSecondaryTourneyTeams.csv', 'WTeamConferences.csv', 'WTeams.csv', 'WTeamSpellings.csv']\n"
     ]
    }
   ],
   "source": [
    "import numpy as np\n",
    "import pandas as pd\n",
    "import os\n",
    "\n",
    "ruta = os.path.dirname(os.getcwd())\n",
    "# print(ruta)\n",
    "listdir = os.listdir(ruta+'\\\\data')\n",
    "# print(listdir)\n",
    "# Load the datasets for the simulation\n",
    "\n",
    "MenResults = pd.read_csv(os.path.dirname(os.getcwd())+'\\\\data\\\\MRegularSeasonCompactResults.csv')\n",
    "WomenResults = pd.read_csv(os.path.dirname(os.getcwd())+'\\\\data\\\\WRegularSeasonCompactResults.csv')\n",
    "MenTeams = pd.read_csv(os.path.dirname(os.getcwd())+'\\\\data\\\\MTeams.csv')\n",
    "WomenTeams = pd.read_csv(os.path.dirname(os.getcwd())+'\\\\data\\\\WTeams.csv')"
   ]
  }
 ],
 "metadata": {
  "kernelspec": {
   "display_name": "Python 3 (ipykernel)",
   "language": "python",
   "name": "python3"
  },
  "language_info": {
   "codemirror_mode": {
    "name": "ipython",
    "version": 3
   },
   "file_extension": ".py",
   "mimetype": "text/x-python",
   "name": "python",
   "nbconvert_exporter": "python",
   "pygments_lexer": "ipython3",
   "version": "3.12.10"
  }
 },
 "nbformat": 4,
 "nbformat_minor": 5
}
