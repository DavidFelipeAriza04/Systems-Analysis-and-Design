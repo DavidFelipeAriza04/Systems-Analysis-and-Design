{
 "cells": [
  {
   "cell_type": "code",
   "execution_count": 1,
   "id": "0d03a2d8",
   "metadata": {},
   "outputs": [
    {
     "name": "stdout",
     "output_type": "stream",
     "text": [
      "Data loaded successfully.\n",
      "Data filtered for season >= 2003.\n"
     ]
    },
    {
     "data": {
      "image/png": "[encoded data removed]",
      "text/plain": [
       "<Figure size 600x400 with 1 Axes>"
      ]
     },
     "metadata": {},
     "output_type": "display_data"
    }
   ],
   "source": [
    "\n",
    "import xgboost as xgb\n",
    "import pandas as pd\n",
    "import numpy as np\n",
    "import matplotlib.pyplot as plt\n",
    "import seaborn\n",
    "import import_ipynb\n",
    "from Feature_Engineering import FeatureEngineer\n",
    "\n",
    "\n",
    "class Trainer():\n",
    "    def __init__(self):\n",
    "        pass\n",
    "\n",
    "    def get_trained_models(self):\n",
    "        self.tourneyData = tourneyData\n",
    "        self.oof_ss = oof_ss\n",
    "        self.oof_preds = oof_preds\n",
    "        self.oof_targets = oof_targets\n",
    "        self.ss_T1, self.ss_T2, self.seeds_T1, self.seeds_T2, self.elos_T1, self.elos_T2, self.features, self.models = ss_T1, ss_T2, seeds_T1, seeds_T2, elos_T1, elos_T2, features, models\n",
    "        return self.tourneyData, self.ss_T1, self.ss_T2, self.seeds_T1, self.seeds_T2, self.elos_T1, self.elos_T2, self.oof_ss, self.oof_preds, self.oof_targets, self.features, self.models\n",
    "    \n",
    "feature_engineer = FeatureEngineer()\n",
    "regularData, tourneyData, ss_T1, ss_T2, seeds_T1, seeds_T2, elos_T1, elos_T2 = feature_engineer.get_featured_data()"
   ]
  },
  {
   "cell_type": "code",
   "execution_count": 2,
   "id": "c6f30e16",
   "metadata": {},
   "outputs": [
    {
     "name": "stdout",
     "output_type": "stream",
     "text": [
      "Number of features 24\n"
     ]
    }
   ],
   "source": [
    "features = [\n",
    "    ### EASY FEATURES ###\n",
    "    \"men_women\",    \n",
    "    # \"T1_seed\",\n",
    "    # \"T2_seed\",\n",
    "    # \"Seed_diff\",\n",
    "    ### MEDIUM FEATURES ###\n",
    "    \"T1_avg_Score\",\n",
    "    #\"T1_avg_FGM\",\n",
    "    \"T1_avg_FGA\",\n",
    "    #\"T1_avg_FGM3\",\n",
    "    #\"T1_avg_FGA3\",\n",
    "    #\"T1_avg_FTM\",\n",
    "    #\"T1_avg_FTA\",\n",
    "    \"T1_avg_OR\",\n",
    "    \"T1_avg_DR\",\n",
    "    #\"T1_avg_Ast\",\n",
    "    #\"T1_avg_TO\",\n",
    "    #\"T1_avg_Stl\",\n",
    "    \"T1_avg_Blk\",\n",
    "    \"T1_avg_PF\",\n",
    "    #\"T1_avg_opponent_Score\",\n",
    "    #\"T1_avg_opponent_FGM\",\n",
    "    \"T1_avg_opponent_FGA\",\n",
    "    #\"T1_avg_opponent_FGM3\",\n",
    "    #\"T1_avg_opponent_FGA3\",\n",
    "    #\"T1_avg_opponent_FTM\",\n",
    "    #\"T1_avg_opponent_FTA\",\n",
    "    #\"T1_avg_opponent_OR\",\n",
    "    #\"T1_avg_opponent_DR\",\n",
    "    #\"T1_avg_opponent_Ast\",\n",
    "    #\"T1_avg_opponent_TO\",\n",
    "    #\"T1_avg_opponent_Stl\",\n",
    "    \"T1_avg_opponent_Blk\",\n",
    "    \"T1_avg_opponent_PF\",\n",
    "    \"T1_avg_PointDiff\",\n",
    "    \"T2_avg_Score\",\n",
    "    #\"T2_avg_FGM\",\n",
    "    \"T2_avg_FGA\",\n",
    "    #\"T2_avg_FGM3\",\n",
    "    #\"T2_avg_FGA3\",\n",
    "    #\"T2_avg_FTM\",\n",
    "    #\"T2_avg_FTA\",\n",
    "    \"T2_avg_OR\",\n",
    "    \"T2_avg_DR\",\n",
    "    #\"T2_avg_Ast\",\n",
    "    #\"T2_avg_TO\",\n",
    "    #\"T2_avg_Stl\",\n",
    "    \"T2_avg_Blk\",\n",
    "    \"T2_avg_PF\",\n",
    "    #\"T2_avg_opponent_Score\",\n",
    "    #\"T2_avg_opponent_FGM\",\n",
    "    \"T2_avg_opponent_FGA\",\n",
    "    #\"T2_avg_opponent_FGM3\",\n",
    "    #\"T2_avg_opponent_FGA3\",\n",
    "    #\"T2_avg_opponent_FTM\",\n",
    "    #\"T2_avg_opponent_FTA\",\n",
    "    #\"T2_avg_opponent_OR\",\n",
    "    #\"T2_avg_opponent_DR\",\n",
    "    #\"T2_avg_opponent_Ast\",\n",
    "    #\"T2_avg_opponent_TO\",\n",
    "    #\"T2_avg_opponent_Stl\",\n",
    "    \"T2_avg_opponent_Blk\",\n",
    "    \"T2_avg_opponent_PF\",\n",
    "    \"T2_avg_PointDiff\",\n",
    "    ### HARD FEATURES ###\n",
    "    # \"T1_elo\",\n",
    "    # \"T2_elo\",    \n",
    "    # \"elo_diff\",\n",
    "    ### HARDEST FEATURES ###\n",
    "    # \"T1_quality\",\n",
    "    # \"T2_quality\",\n",
    "]\n",
    "\n",
    "print(f\"Number of features {len(features)}\")"
   ]
  },
  {
   "cell_type": "code",
   "execution_count": 3,
   "id": "68d071a1",
   "metadata": {},
   "outputs": [],
   "source": [
    "param = {}\n",
    "param[\"objective\"] = \"reg:squarederror\"\n",
    "param[\"booster\"] = \"gbtree\"\n",
    "param[\"eta\"] = 0.0093  #0.009 #0.01\n",
    "param[\"subsample\"] = 0.6\n",
    "param[\"colsample_bynode\"] = 0.8\n",
    "param[\"num_parallel_tree\"] = 2 \n",
    "param[\"min_child_weight\"] = 4\n",
    "param[\"max_depth\"] = 4\n",
    "param[\"tree_method\"] = \"hist\"\n",
    "param['grow_policy'] = 'lossguide'\n",
    "param[\"max_bin\"] = 38   #32\n",
    "\n",
    "num_rounds = 704 #704 #700"
   ]
  },
  {
   "cell_type": "code",
   "execution_count": 4,
   "id": "baf01a97",
   "metadata": {},
   "outputs": [
    {
     "name": "stdout",
     "output_type": "stream",
     "text": [
      "oof season 2003 mae: 8.898201037412461\n",
      "oof season 2004 mae: 7.994468324286734\n",
      "oof season 2005 mae: 7.544268702262909\n",
      "oof season 2006 mae: 8.991104908949799\n",
      "oof season 2007 mae: 7.7063453689482735\n",
      "oof season 2008 mae: 9.867942219629185\n",
      "oof season 2009 mae: 8.937101333288268\n",
      "oof season 2010 mae: 8.806863597104993\n",
      "oof season 2011 mae: 9.922243279340144\n",
      "oof season 2012 mae: 8.587774038846549\n",
      "oof season 2013 mae: 10.140470726890888\n",
      "oof season 2014 mae: 10.359263730760759\n",
      "oof season 2015 mae: 7.574395333616756\n",
      "oof season 2016 mae: 10.512072614890755\n",
      "oof season 2017 mae: 9.814326252785122\n",
      "oof season 2018 mae: 10.375623732576402\n",
      "oof season 2019 mae: 9.001348939458403\n",
      "oof season 2021 mae: 10.467654958367348\n",
      "oof season 2022 mae: 10.731388461588578\n",
      "oof season 2023 mae: 9.587657135579223\n",
      "oof season 2024 mae: 9.327987848732398\n",
      "average mae: 9.292785835491237\n"
     ]
    }
   ],
   "source": [
    "from sklearn.metrics import mean_absolute_error\n",
    "\n",
    "models = {}\n",
    "oof_mae = []\n",
    "oof_preds = []\n",
    "oof_targets = []\n",
    "oof_ss = []\n",
    "\n",
    "# leave-one-season out models\n",
    "for oof_season in set(tourneyData.Season):\n",
    "    x_train = tourneyData.loc[tourneyData[\"Season\"] != oof_season, features].values\n",
    "    y_train = tourneyData.loc[tourneyData[\"Season\"] != oof_season, \"PointDiff\"].values\n",
    "    x_val = tourneyData.loc[tourneyData[\"Season\"] == oof_season, features].values\n",
    "    y_val = tourneyData.loc[tourneyData[\"Season\"] == oof_season, \"PointDiff\"].values\n",
    "    s_val = tourneyData.loc[tourneyData[\"Season\"] == oof_season, \"Season\"].values\n",
    "    \n",
    "    dtrain = xgb.DMatrix(x_train, label=y_train)\n",
    "    dval = xgb.DMatrix(x_val, label=y_val)\n",
    "    models[oof_season] = xgb.train(\n",
    "        params=param,\n",
    "        dtrain=dtrain,\n",
    "        num_boost_round = num_rounds,        \n",
    "    )\n",
    "    preds = models[oof_season].predict(dval)\n",
    "    print(f\"oof season {oof_season} mae: {mean_absolute_error(y_val, preds)}\")\n",
    "    oof_mae.append(mean_absolute_error(y_val, preds))\n",
    "    oof_preds += list(preds)\n",
    "    oof_targets += list(y_val)\n",
    "    oof_ss += list(s_val)\n",
    "    \n",
    "print(f\"average mae: {np.mean(oof_mae)}\")"
   ]
  }
 ],
 "metadata": {
  "kernelspec": {
   "display_name": "Python 3 (ipykernel)",
   "language": "python",
   "name": "python3"
  },
  "language_info": {
   "codemirror_mode": {
    "name": "ipython",
    "version": 3
   },
   "file_extension": ".py",
   "mimetype": "text/x-python",
   "name": "python",
   "nbconvert_exporter": "python",
   "pygments_lexer": "ipython3",
   "version": "3.12.10"
  }
 },
 "nbformat": 4,
 "nbformat_minor": 5
}
