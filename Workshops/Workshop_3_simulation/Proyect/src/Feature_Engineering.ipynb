{
 "cells": [
  {
   "cell_type": "code",
   "execution_count": 3,
   "id": "fa3261ce",
   "metadata": {},
   "outputs": [],
   "source": [
    "import import_ipynb\n",
    "from Ingestion import DataIngestion"
   ]
  },
  {
   "cell_type": "code",
   "execution_count": 5,
   "id": "4ade163a-4cd2-42b7-b8e5-a5a14347b1a1",
   "metadata": {},
   "outputs": [
    {
     "name": "stdout",
     "output_type": "stream",
     "text": [
      "   Season  DayNum  WTeamID  WScore  LTeamID  LScore WLoc  NumOT  WFGM  WFGA  \\\n",
      "0    2003     134     1421      92     1411      84    N      1    32    69   \n",
      "1    2003     136     1112      80     1436      51    N      0    31    66   \n",
      "2    2003     136     1113      84     1272      71    N      0    31    59   \n",
      "3    2003     136     1141      79     1166      73    N      0    29    53   \n",
      "4    2003     136     1143      76     1301      74    N      1    27    64   \n",
      "\n",
      "   ...  LFGA3  LFTM  LFTA  LOR  LDR  LAst  LTO  LStl  LBlk  LPF  \n",
      "0  ...     31    14    31   17   28    16   15     5     0   22  \n",
      "1  ...     16     7     7    8   26    12   17    10     3   15  \n",
      "2  ...     28    14    21   20   22    11   12     2     5   18  \n",
      "3  ...     17    12    17   14   17    20   21     6     6   21  \n",
      "4  ...     21    15    20   10   26    16   14     5     8   19  \n",
      "\n",
      "[5 rows x 34 columns]\n",
      "Data loaded successfully.\n"
     ]
    }
   ],
   "source": [
    "import pandas as pd\n",
    "\n",
    "\n",
    "class FeatureEngineering:\n",
    "    def __init__(self, data):\n",
    "        self.data = data\n",
    "\n",
    "DataIngester = DataIngestion()\n",
    "data = DataIngester.get_data()\n",
    "print(data[0].head())\n",
    "print(\"Data loaded successfully.\")\n",
    "\n"
   ]
  }
 ],
 "metadata": {
  "kernelspec": {
   "display_name": "Python 3 (ipykernel)",
   "language": "python",
   "name": "python3"
  },
  "language_info": {
   "codemirror_mode": {
    "name": "ipython",
    "version": 3
   },
   "file_extension": ".py",
   "mimetype": "text/x-python",
   "name": "python",
   "nbconvert_exporter": "python",
   "pygments_lexer": "ipython3",
   "version": "3.12.10"
  }
 },
 "nbformat": 4,
 "nbformat_minor": 5
}
